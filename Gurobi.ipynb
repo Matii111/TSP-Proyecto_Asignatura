{
 "cells": [
  {
   "cell_type": "code",
   "execution_count": 1,
   "metadata": {},
   "outputs": [],
   "source": [
    "import gurobipy as gp\n",
    "import itertools\n",
    "from gurobipy import GRB"
   ]
  },
  {
   "cell_type": "code",
   "execution_count": 2,
   "metadata": {},
   "outputs": [],
   "source": [
    "def tsp_solver(distances):\n",
    "    num_cities = len(distances)\n",
    "\n",
    "    # Crear el modelo\n",
    "    model = gp.Model()\n",
    "\n",
    "    # Crear las variables\n",
    "    x = {}\n",
    "    for i in range(num_cities):\n",
    "        for j in range(num_cities):\n",
    "            x[i, j] = model.addVar(vtype=GRB.BINARY, name=f'x_{i}_{j}')\n",
    "\n",
    "    # Restricción de visita\n",
    "    for i in range(num_cities):\n",
    "        model.addConstr(gp.quicksum(x[i, j] for j in range(num_cities) if j != i) == 1, name=f'visit_{i}')\n",
    "\n",
    "    for j in range(num_cities):\n",
    "        model.addConstr(gp.quicksum(x[i, j] for i in range(num_cities) if i != j) == 1, name=f'visit_{j}')\n",
    "\n",
    "    # Restricción de subtours\n",
    "    for subset_size in range(2, num_cities):\n",
    "        for subset in itertools.combinations(range(num_cities), subset_size):\n",
    "            model.addConstr(gp.quicksum(x[i, j] for i in subset for j in range(num_cities) if j not in subset) >= 1,\n",
    "                            name=f'subtour_{subset}')\n",
    "\n",
    "    # Función objetivo\n",
    "    obj = gp.quicksum(distances[i][j] * x[i, j] for i in range(num_cities) for j in range(num_cities) if j != i)\n",
    "    model.setObjective(obj, GRB.MINIMIZE)\n",
    "\n",
    "    # Resolver el modelo\n",
    "    model.optimize()\n",
    "\n",
    "    # Obtener la solución\n",
    "    if model.status == GRB.OPTIMAL:\n",
    "        route = []\n",
    "        for i in range(num_cities):\n",
    "            for j in range(num_cities):\n",
    "                if x[i, j].x > 0.5:\n",
    "                    route.append((i, j))\n",
    "        return route\n",
    "    else:\n",
    "        return None"
   ]
  },
  {
   "cell_type": "code",
   "execution_count": 3,
   "metadata": {},
   "outputs": [
    {
     "name": "stdout",
     "output_type": "stream",
     "text": [
      "Restricted license - for non-production use only - expires 2024-10-28\n",
      "Gurobi Optimizer version 10.0.2 build v10.0.2rc0 (win64)\n",
      "\n",
      "CPU model: Intel(R) Core(TM) i5-7400 CPU @ 3.00GHz, instruction set [SSE2|AVX|AVX2]\n",
      "Thread count: 4 physical cores, 4 logical processors, using up to 4 threads\n",
      "\n",
      "Optimize a model with 18 rows, 16 columns and 60 nonzeros\n",
      "Model fingerprint: 0x8df488cf\n",
      "Variable types: 0 continuous, 16 integer (16 binary)\n",
      "Coefficient statistics:\n",
      "  Matrix range     [1e+00, 1e+00]\n",
      "  Objective range  [1e+01, 4e+01]\n",
      "  Bounds range     [1e+00, 1e+00]\n",
      "  RHS range        [1e+00, 1e+00]\n",
      "Found heuristic solution: objective 95.0000000\n",
      "Presolve removed 4 rows and 4 columns\n",
      "Presolve time: 0.03s\n",
      "Presolved: 14 rows, 12 columns, 48 nonzeros\n",
      "Variable types: 0 continuous, 12 integer (12 binary)\n",
      "\n",
      "Root relaxation: objective 8.000000e+01, 7 iterations, 0.02 seconds (0.00 work units)\n",
      "\n",
      "    Nodes    |    Current Node    |     Objective Bounds      |     Work\n",
      " Expl Unexpl |  Obj  Depth IntInf | Incumbent    BestBd   Gap | It/Node Time\n",
      "\n",
      "*    0     0               0      80.0000000   80.00000  0.00%     -    0s\n",
      "\n",
      "Explored 1 nodes (7 simplex iterations) in 0.11 seconds (0.00 work units)\n",
      "Thread count was 4 (of 4 available processors)\n",
      "\n",
      "Solution count 2: 80 95 \n",
      "\n",
      "Optimal solution found (tolerance 1.00e-04)\n",
      "Best objective 8.000000000000e+01, best bound 8.000000000000e+01, gap 0.0000%\n",
      "Ruta óptima:\n",
      "De ciudad 0 a ciudad 1\n",
      "De ciudad 1 a ciudad 3\n",
      "De ciudad 2 a ciudad 0\n",
      "De ciudad 3 a ciudad 2\n"
     ]
    }
   ],
   "source": [
    "distances = [\n",
    "    [0, 10, 15, 20],\n",
    "    [10, 0, 35, 25],\n",
    "    [15, 35, 0, 30],\n",
    "    [20, 25, 30, 0]\n",
    "]\n",
    "route = tsp_solver(distances)\n",
    "print(\"Ruta óptima:\")\n",
    "for i, j in route:\n",
    "    print(f\"De ciudad {i} a ciudad {j}\")"
   ]
  }
 ],
 "metadata": {
  "kernelspec": {
   "display_name": "Python 3",
   "language": "python",
   "name": "python3"
  },
  "language_info": {
   "codemirror_mode": {
    "name": "ipython",
    "version": 3
   },
   "file_extension": ".py",
   "mimetype": "text/x-python",
   "name": "python",
   "nbconvert_exporter": "python",
   "pygments_lexer": "ipython3",
   "version": "3.10.11"
  },
  "orig_nbformat": 4
 },
 "nbformat": 4,
 "nbformat_minor": 2
}
