{
 "cells": [
  {
   "cell_type": "code",
   "execution_count": null,
   "metadata": {},
   "outputs": [],
   "source": [
    "import gurobipy as gp\n",
    "import itertools\n",
    "from gurobipy import GRB"
   ]
  },
  {
   "cell_type": "code",
   "execution_count": null,
   "metadata": {},
   "outputs": [],
   "source": [
    "def tsp_solver(distances):\n",
    "    num_cities = len(distances)\n",
    "\n",
    "    # Crear el modelo\n",
    "    model = gp.Model()\n",
    "\n",
    "    # Crear las variables\n",
    "    x = {}\n",
    "    for i in range(num_cities):\n",
    "        for j in range(num_cities):\n",
    "            x[i, j] = model.addVar(vtype=GRB.BINARY, name=f'x_{i}_{j}')\n",
    "\n",
    "    # Restricción de visita\n",
    "    for i in range(num_cities):\n",
    "        model.addConstr(gp.quicksum(x[i, j] for j in range(num_cities) if j != i) == 1, name=f'visit_{i}')\n",
    "\n",
    "    for j in range(num_cities):\n",
    "        model.addConstr(gp.quicksum(x[i, j] for i in range(num_cities) if i != j) == 1, name=f'visit_{j}')\n",
    "\n",
    "    # Restricción de subtours\n",
    "    for subset_size in range(2, num_cities):\n",
    "        for subset in itertools.combinations(range(num_cities), subset_size):\n",
    "            model.addConstr(gp.quicksum(x[i, j] for i in subset for j in range(num_cities) if j not in subset) >= 1,\n",
    "                            name=f'subtour_{subset}')\n",
    "\n",
    "    # Función objetivo\n",
    "    obj = gp.quicksum(distances[i][j] * x[i, j] for i in range(num_cities) for j in range(num_cities) if j != i)\n",
    "    model.setObjective(obj, GRB.MINIMIZE)\n",
    "\n",
    "    # Resolver el modelo\n",
    "    model.optimize()\n",
    "\n",
    "    # Obtener la solución\n",
    "    if model.status == GRB.OPTIMAL:\n",
    "        route = []\n",
    "        for i in range(num_cities):\n",
    "            for j in range(num_cities):\n",
    "                if x[i, j].x > 0.5:\n",
    "                    route.append((i, j))\n",
    "        return route\n",
    "    else:\n",
    "        return None"
   ]
  },
  {
   "cell_type": "code",
   "execution_count": null,
   "metadata": {},
   "outputs": [],
   "source": [
    "distances = [\n",
    "    [0, 10, 15, 20],\n",
    "    [10, 0, 35, 25],\n",
    "    [15, 35, 0, 30],\n",
    "    [20, 25, 30, 0]\n",
    "]\n",
    "route = tsp_solver(distances)\n",
    "print(\"Ruta óptima:\")\n",
    "for i, j in route:\n",
    "    print(f\"De ciudad {i} a ciudad {j}\")"
   ]
  }
 ],
 "metadata": {
  "language_info": {
   "name": "python"
  },
  "orig_nbformat": 4
 },
 "nbformat": 4,
 "nbformat_minor": 2
}
