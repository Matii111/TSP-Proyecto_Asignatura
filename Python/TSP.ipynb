{
 "cells": [
  {
   "cell_type": "code",
   "execution_count": 77,
   "metadata": {},
   "outputs": [],
   "source": [
    "from sys import maxsize\n",
    "from itertools import permutations\n",
    "import matplotlib.pyplot as plt\n",
    "import networkx as nx\n",
    "import itertools\n"
   ]
  },
  {
   "cell_type": "code",
   "execution_count": 78,
   "metadata": {},
   "outputs": [],
   "source": [
    "# Funcion implementa TSP a un grafo dirigido\n",
    "def tspD(graph, s):\n",
    "    vertex = []\n",
    "    for i in range(len(graph)):\n",
    "        if i != s:\n",
    "            vertex.append(i)\n",
    "\n",
    "    min_path = float('inf')\n",
    "    next_permutation = permutations(vertex)\n",
    "    for i in next_permutation:\n",
    "        current_pathweight = 0\n",
    "        k = s\n",
    "        for j in i:\n",
    "            current_pathweight += graph[k][j]\n",
    "            k = j\n",
    "        current_pathweight += graph[k][s]\n",
    "        min_path = min(min_path, current_pathweight)\n",
    "         \n",
    "    return min_path\n",
    "\n",
    "# Funcion implementa TSP a un grafo no dirigido\n",
    "def tspN(graph, s):\n",
    "    vertex = []\n",
    "    for i in range(V):\n",
    "        if i != s:\n",
    "            vertex.append(i)\n",
    "\n",
    "    min_path = maxsize\n",
    "    next_permutation = permutations(vertex)\n",
    "    for i in next_permutation:\n",
    "        current_pathweight = 0\n",
    "        k = s\n",
    "        for j in i:\n",
    "            current_pathweight += graph[k][j]\n",
    "            k = j\n",
    "        current_pathweight += graph[k][s]\n",
    "        min_path = min(min_path, current_pathweight)\n",
    "         \n",
    "    return min_path"
   ]
  },
  {
   "cell_type": "code",
   "execution_count": 79,
   "metadata": {},
   "outputs": [],
   "source": [
    "\n",
    "# Función para graficar el grafo y la ruta del viajante de comercio\n",
    "def plotN(graph, path):\n",
    "    x = [coord[0] for coord in graph]\n",
    "    y = [coord[1] for coord in graph]\n",
    "\n",
    "    plt.scatter(x, y, color='red', zorder=10)\n",
    "    \n",
    "    for i in range(len(path) - 1):\n",
    "        plt.plot([x[path[i]], x[path[i + 1]]], [y[path[i]], y[path[i + 1]]], color='blue')\n",
    "    \n",
    "    plt.plot([x[path[-1]], x[path[0]]], [y[path[-1]], y[path[0]]], color='blue')\n",
    "\n",
    "    plt.xlim(min(x) - 1, max(x) + 1)\n",
    "    plt.ylim(min(y) - 1, max(y) + 1)\n",
    "    \n",
    "    plt.show()\n",
    "\n",
    "# Funcion que muestra un grafo dirigido\n",
    "def plotD(graph, path):\n",
    "    G = nx.DiGraph()\n",
    "    \n",
    "    num_nodes = len(graph)\n",
    "    \n",
    "    for i in range(num_nodes):\n",
    "        for j in range(num_nodes):\n",
    "            weight = graph[i][j]\n",
    "            if weight != 0:\n",
    "                G.add_edge(i, j, weight=weight)\n",
    "    \n",
    "    pos = nx.spring_layout(G)\n",
    "    \n",
    "    nx.draw_networkx_nodes(G, pos, node_color='red')\n",
    "    nx.draw_networkx_edges(G, pos, edge_color='blue')\n",
    "    nx.draw_networkx_labels(G, pos)\n",
    "    \n",
    "    # Dibujar la ruta del viajante de comercio\n",
    "    path_edges = [(path[i], path[i + 1]) for i in range(len(path) - 1)]\n",
    "    path_edges.append((path[-1], path[0]))\n",
    "    \n",
    "    nx.draw_networkx_edges(G, pos, edgelist=path_edges, edge_color='red', width=2)\n",
    "    \n",
    "    plt.axis('off')\n",
    "    plt.show()\n",
    "\n"
   ]
  },
  {
   "cell_type": "code",
   "execution_count": 80,
   "metadata": {},
   "outputs": [
    {
     "name": "stdout",
     "output_type": "stream",
     "text": [
      "Camino mínimo grafo no dirigido: 80\n",
      "Camino mínimo grafo dirigido: 80\n"
     ]
    }
   ],
   "source": [
    "V = 4\n",
    "\n",
    "# Ejemplo de uso\n",
    "if __name__ == \"__main__\":\n",
    "    \n",
    "    #valores para grafo no dirigido---------------\n",
    "    graph = [[0, 10, 15, 20], [10, 0, 35, 25],\n",
    "            [15, 35, 0, 30], [20, 25, 30, 0]]    \n",
    "    start = 0    \n",
    "    min_path = tspN(graph, start)    \n",
    "    path = [start] + list(min(permutations(range(1, V)), key=lambda x: graph[start][x[0]]))\n",
    "    print(\"Camino mínimo grafo no dirigido:\", min_path)\n",
    "    \n",
    "    #valores para grafo dirigido------------------\n",
    "    graph_d = [[0, 10, 15, 20], [10, 0, 35, 25],\n",
    "             [15, 35, 0, 30], [20, 25, 30, 0]]\n",
    "    start_d = 0\n",
    "    min_path_d = tspD(graph_d, start_d)\n",
    "    path_d = [start_d] + list(min(permutations(range(1, V)), key=lambda x: graph_d[start_d][x[0]]))\n",
    "    print(\"Camino mínimo grafo dirigido:\", min_path_d)\n",
    "    \n"
   ]
  },
  {
   "cell_type": "code",
   "execution_count": 81,
   "metadata": {},
   "outputs": [
    {
     "data": {
      "image/png": "[encoded data removed]",
      "text/plain": [
       "<Figure size 640x480 with 1 Axes>"
      ]
     },
     "metadata": {},
     "output_type": "display_data"
    }
   ],
   "source": [
    "# Muestra el grafo dirigido\n",
    "plotD(graph_d, path_d)"
   ]
  },
  {
   "cell_type": "code",
   "execution_count": null,
   "metadata": {},
   "outputs": [],
   "source": [
    "# Muestra el grafo no dirigido\n",
    "plotN(graph,path)"
   ]
  }
 ],
 "metadata": {
  "kernelspec": {
   "display_name": "Python 3",
   "language": "python",
   "name": "python3"
  },
  "language_info": {
   "codemirror_mode": {
    "name": "ipython",
    "version": 3
   },
   "file_extension": ".py",
   "mimetype": "text/x-python",
   "name": "python",
   "nbconvert_exporter": "python",
   "pygments_lexer": "ipython3",
   "version": "3.11.2"
  },
  "orig_nbformat": 4
 },
 "nbformat": 4,
 "nbformat_minor": 2
}
